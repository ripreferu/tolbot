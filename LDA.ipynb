{
 "cells": [
  {
   "cell_type": "code",
   "execution_count": 28,
   "metadata": {},
   "outputs": [],
   "source": [
    "corpus=[\"Martine à la plage\", \"Martine en vacances\",\"Martine en confinement\",\"Martine chez ses amis\",\"Martine à la décharge\",\"Martine fait trempette\", \"Martine et les chiens\", \"Martine a peur\",\"Martine à la ferme\",\"Luky Luke chez les Chti's\",\"Luky Luke et Ma Dalton\",\"Luky Luke et la Ruée vers l'or\"]\n",
    "from gensim.models import LdaModel\n",
    "from gensim.sklearn_api import Text2BowTransformer\n",
    "bow=Text2BowTransformer()\n",
    "corpus_2=bow.fit_transform(corpus)\n",
    "model=LdaModel(corpus_2,num_topics=2,id2word=bow.gensim_model)"
   ]
  },
  {
   "cell_type": "code",
   "execution_count": 29,
   "metadata": {},
   "outputs": [],
   "source": [
    "topics=model.get_topics()"
   ]
  },
  {
   "cell_type": "code",
   "execution_count": 30,
   "metadata": {},
   "outputs": [
    {
     "name": "stdout",
     "output_type": "stream",
     "text": [
      "sujet n° 1\n",
      "en\n",
      "vacances\n",
      "confinement\n",
      "amis\n",
      "chez\n",
      "ses\n",
      "décharge\n",
      "les\n",
      "Chti\n",
      "Luke\n",
      "Luky\n",
      "s\n",
      "Dalton\n",
      "Ma\n",
      "sujet n° 2\n",
      "Martine\n",
      "la\n",
      "plage\n",
      "à\n",
      "fait\n",
      "trempette\n",
      "chiens\n",
      "et\n",
      "a\n",
      "peur\n",
      "ferme\n",
      "Ruée\n",
      "l\n",
      "or\n",
      "vers\n"
     ]
    }
   ],
   "source": [
    "dico_id2mot=bow.gensim_model.id2token\n",
    "i=0\n",
    "def subsampling(*arg):\n",
    "    long=len(arg)\n",
    "    m=max(arg)\n",
    "    rep=[0]*len(arg)\n",
    "    ind=arg.index(m)\n",
    "    rep[ind]=1\n",
    "    return rep\n",
    "import numpy as np\n",
    "matrice=np.array([np.array(subsampling(*k)) for k in topics.transpose()])\n",
    "for topic in topics:\n",
    "    print(\"sujet n°\",i+1)\n",
    "    for mot_id in bow.gensim_model:\n",
    "        if matrice[mot_id,i]==1:\n",
    "            print(dico_id2mot[mot_id])\n",
    "    i+=1"
   ]
  }
 ],
 "metadata": {
  "kernelspec": {
   "display_name": "Python 3",
   "language": "python",
   "name": "python3"
  },
  "language_info": {
   "codemirror_mode": {
    "name": "ipython",
    "version": 3
   },
   "file_extension": ".py",
   "mimetype": "text/x-python",
   "name": "python",
   "nbconvert_exporter": "python",
   "pygments_lexer": "ipython3",
   "version": "3.6.10"
  }
 },
 "nbformat": 4,
 "nbformat_minor": 4
}
