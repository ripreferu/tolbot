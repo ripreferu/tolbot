{
 "cells": [
  {
   "cell_type": "code",
   "execution_count": 1,
   "metadata": {},
   "outputs": [],
   "source": [
    "from gensim.models import LsiModel\n",
    "from gensim.sklearn_api import Text2BowTransformer\n",
    "corpus=[\"Martine à la plage\", \"Martine en vacances\",\"Martine en confinement\",\"Martine chez ses amis\",\"Martine à la décharge\",\"Martine fait trempette\", \"Martine et les chiens\", \"Martine a peur\",\"Martine à la ferme\",\"Luky Luke chez les Chti's\",\"Luky Lucke et Ma Dalton\",\"Luky Luke et la Ruée vers l'or\"]"
   ]
  },
  {
   "cell_type": "code",
   "execution_count": 2,
   "metadata": {
    "scrolled": true
   },
   "outputs": [],
   "source": [
    "\n",
    "bow=Text2BowTransformer()\n",
    "corpus_2=bow.fit_transform(corpus)\n",
    "model=LsiModel(corpus_2,num_topics=2,id2word=bow.gensim_model)"
   ]
  },
  {
   "cell_type": "code",
   "execution_count": 3,
   "metadata": {},
   "outputs": [],
   "source": [
    "topics=model.get_topics()"
   ]
  },
  {
   "cell_type": "code",
   "execution_count": 4,
   "metadata": {},
   "outputs": [
    {
     "name": "stdout",
     "output_type": "stream",
     "text": [
      "sujet n° 0\n",
      "Martine\n",
      "la\n",
      "plage\n",
      "à\n",
      "en\n",
      "vacances\n",
      "confinement\n",
      "amis\n",
      "ses\n",
      "décharge\n",
      "fait\n",
      "trempette\n",
      "chiens\n",
      "a\n",
      "peur\n",
      "ferme\n",
      "sujet n° 1\n",
      "chez\n",
      "et\n",
      "les\n",
      "Chti\n",
      "Luke\n",
      "Luky\n",
      "s\n",
      "Dalton\n",
      "Lucke\n",
      "Ma\n",
      "Ruée\n",
      "l\n",
      "or\n",
      "vers\n"
     ]
    }
   ],
   "source": [
    "dico_id2mot=bow.gensim_model.id2token\n",
    "i=0\n",
    "def subsampling(*arg):\n",
    "    long=len(arg)\n",
    "    m=max(arg)\n",
    "    rep=[0]*len(arg)\n",
    "    ind=arg.index(m)\n",
    "    rep[ind]=1\n",
    "    return rep\n",
    "import numpy as np\n",
    "matrice=np.array([np.array(subsampling(*k)) for k in model.projection.u])\n",
    "for topic in topics:\n",
    "    print(\"sujet n°\",i)\n",
    "    for mot_id in bow.gensim_model:\n",
    "        if matrice[mot_id,i]==1:\n",
    "            print(dico_id2mot[mot_id])\n",
    "    i+=1"
   ]
  }
 ],
 "metadata": {
  "kernelspec": {
   "display_name": "Python 3",
   "language": "python",
   "name": "python3"
  },
  "language_info": {
   "codemirror_mode": {
    "name": "ipython",
    "version": 3
   },
   "file_extension": ".py",
   "mimetype": "text/x-python",
   "name": "python",
   "nbconvert_exporter": "python",
   "pygments_lexer": "ipython3",
   "version": "3.6.10"
  }
 },
 "nbformat": 4,
 "nbformat_minor": 4
}
